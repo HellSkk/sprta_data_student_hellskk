{
 "cells": [
  {
   "cell_type": "code",
   "execution_count": 8,
   "id": "2a56d573",
   "metadata": {},
   "outputs": [],
   "source": [
    "import pandas as pd"
   ]
  },
  {
   "cell_type": "code",
   "execution_count": null,
   "id": "2e8e4974",
   "metadata": {},
   "outputs": [
    {
     "name": "stdout",
     "output_type": "stream",
     "text": [
      "화    200\n",
      "목    400\n",
      "dtype: int64\n",
      "화    200\n",
      "수    300\n",
      "목    400\n",
      "dtype: int64\n",
      "월    100\n",
      "화    200\n",
      "수    300\n",
      "목    400\n",
      "dtype: int64\n"
     ]
    }
   ],
   "source": [
    "# Series의 값 추가\n",
    "data = [100, 200, 300]\n",
    "index = [\"월\", \"화\", \"수\"]\n",
    "s = pd.Series(data, index=index)\n",
    "\n",
    "\n",
    "s.loc[\"목\"] = 400\n",
    "\n",
    "print(s)"
   ]
  },
  {
   "cell_type": "code",
   "execution_count": null,
   "id": "4499d22c",
   "metadata": {},
   "outputs": [],
   "source": [
    "# Series의 값 삭제\n",
    "s1 = s.drop(\"월\")\n",
    "s2 = s.drop([\"월\", \"수\"])\n",
    "\n",
    "print(s2)\n",
    "print(s1)\n",
    "print(s)"
   ]
  },
  {
   "cell_type": "code",
   "execution_count": 16,
   "id": "ac870761",
   "metadata": {},
   "outputs": [
    {
     "data": {
      "text/plain": [
       "월    1000\n",
       "화     200\n",
       "수    3000\n",
       "목     400\n",
       "dtype: int64"
      ]
     },
     "execution_count": 16,
     "metadata": {},
     "output_type": "execute_result"
    }
   ],
   "source": [
    "# Series의 \n",
    "\n",
    "s.iloc[0] = 1000\n",
    "s.loc[\"수\"] = 3000\n",
    "s"
   ]
  }
 ],
 "metadata": {
  "kernelspec": {
   "display_name": "Python 3",
   "language": "python",
   "name": "python3"
  },
  "language_info": {
   "codemirror_mode": {
    "name": "ipython",
    "version": 3
   },
   "file_extension": ".py",
   "mimetype": "text/x-python",
   "name": "python",
   "nbconvert_exporter": "python",
   "pygments_lexer": "ipython3",
   "version": "3.13.5"
  }
 },
 "nbformat": 4,
 "nbformat_minor": 5
}
