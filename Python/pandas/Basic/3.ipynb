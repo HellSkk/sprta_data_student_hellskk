{
 "cells": [
  {
   "cell_type": "code",
   "execution_count": 1,
   "id": "39e4c1e3",
   "metadata": {},
   "outputs": [],
   "source": [
    "import pandas as pd"
   ]
  },
  {
   "cell_type": "markdown",
   "id": "e004838a",
   "metadata": {},
   "source": [
    "- iloc 속성을 사용하여 인덱싱\n",
    "    - 시리즈 객체의 행번호를 사용하여 인덱싱"
   ]
  },
  {
   "cell_type": "code",
   "execution_count": 5,
   "id": "a8704dc5",
   "metadata": {},
   "outputs": [
    {
     "name": "stdout",
     "output_type": "stream",
     "text": [
      "월    100\n",
      "화    200\n",
      "수    300\n",
      "dtype: int64\n"
     ]
    }
   ],
   "source": [
    "data = [100, 200, 300]\n",
    "index = [\"월\", \"화\", \"수\"]\n",
    "s = pd.Series(data, index=index)\n",
    "print(s)"
   ]
  },
  {
   "cell_type": "code",
   "execution_count": 6,
   "id": "16c37859",
   "metadata": {},
   "outputs": [
    {
     "data": {
      "text/plain": [
       "np.int64(100)"
      ]
     },
     "execution_count": 6,
     "metadata": {},
     "output_type": "execute_result"
    }
   ],
   "source": [
    "s.iloc[0]"
   ]
  },
  {
   "cell_type": "markdown",
   "id": "00cace4f",
   "metadata": {},
   "source": [
    "- loc 속성을 사용\n",
    "    - 시리즈의 인덱싱을 사용"
   ]
  },
  {
   "cell_type": "code",
   "execution_count": 7,
   "id": "f435e2ea",
   "metadata": {},
   "outputs": [
    {
     "data": {
      "text/plain": [
       "np.int64(100)"
      ]
     },
     "execution_count": 7,
     "metadata": {},
     "output_type": "execute_result"
    }
   ],
   "source": [
    "s.loc[\"월\"]"
   ]
  },
  {
   "cell_type": "code",
   "execution_count": 8,
   "id": "19c2bc7d",
   "metadata": {},
   "outputs": [
    {
     "data": {
      "text/plain": [
       "np.int64(200)"
      ]
     },
     "execution_count": 8,
     "metadata": {},
     "output_type": "execute_result"
    }
   ],
   "source": [
    "s.loc[\"화\"]"
   ]
  },
  {
   "cell_type": "markdown",
   "id": "88f734ea",
   "metadata": {},
   "source": [
    "- 대괄호 ([])를 사용하여 인덱싱"
   ]
  },
  {
   "cell_type": "code",
   "execution_count": 9,
   "id": "4de1beb2",
   "metadata": {},
   "outputs": [
    {
     "data": {
      "text/plain": [
       "np.int64(100)"
      ]
     },
     "execution_count": 9,
     "metadata": {},
     "output_type": "execute_result"
    }
   ],
   "source": [
    "s[\"월\"]"
   ]
  },
  {
   "cell_type": "code",
   "execution_count": 10,
   "id": "06d985f0",
   "metadata": {},
   "outputs": [
    {
     "data": {
      "text/plain": [
       "np.int64(200)"
      ]
     },
     "execution_count": 10,
     "metadata": {},
     "output_type": "execute_result"
    }
   ],
   "source": [
    "s[\"화\"]"
   ]
  },
  {
   "cell_type": "code",
   "execution_count": 11,
   "id": "bc872f5b",
   "metadata": {},
   "outputs": [
    {
     "data": {
      "text/plain": [
       "월    100\n",
       "화    200\n",
       "dtype: int64"
      ]
     },
     "execution_count": 11,
     "metadata": {},
     "output_type": "execute_result"
    }
   ],
   "source": [
    "s.iloc[0:2]"
   ]
  },
  {
   "cell_type": "code",
   "execution_count": 12,
   "id": "ed75c562",
   "metadata": {},
   "outputs": [
    {
     "data": {
      "text/plain": [
       "월    100\n",
       "화    200\n",
       "dtype: int64"
      ]
     },
     "execution_count": 12,
     "metadata": {},
     "output_type": "execute_result"
    }
   ],
   "source": [
    "s.loc[\"월\":\"화\"]"
   ]
  },
  {
   "cell_type": "code",
   "execution_count": 13,
   "id": "05ee8ad8",
   "metadata": {},
   "outputs": [
    {
     "name": "stdout",
     "output_type": "stream",
     "text": [
      "월    100\n",
      "수    300\n",
      "dtype: int64\n"
     ]
    }
   ],
   "source": [
    "target = [0, 2]\n",
    "print(s.iloc[target])"
   ]
  }
 ],
 "metadata": {
  "kernelspec": {
   "display_name": "Python 3",
   "language": "python",
   "name": "python3"
  },
  "language_info": {
   "codemirror_mode": {
    "name": "ipython",
    "version": 3
   },
   "file_extension": ".py",
   "mimetype": "text/x-python",
   "name": "python",
   "nbconvert_exporter": "python",
   "pygments_lexer": "ipython3",
   "version": "3.13.5"
  }
 },
 "nbformat": 4,
 "nbformat_minor": 5
}
