{
 "cells": [
  {
   "cell_type": "code",
   "execution_count": null,
   "id": "73ce1986",
   "metadata": {},
   "outputs": [],
   "source": [
    "\n",
    "import pandas as pd"
   ]
  },
  {
   "cell_type": "code",
   "execution_count": null,
   "id": "30a9ee1f",
   "metadata": {},
   "outputs": [
    {
     "name": "stdout",
     "output_type": "stream",
     "text": [
      "0    110\n",
      "1    210\n",
      "2    310\n",
      "dtype: int64\n"
     ]
    }
   ],
   "source": [
    "# 브로드캐스팅\n",
    "# 연산이 시리즈 객체의 전체 값에 적용됨(반복문을 사용하지 않음)\n",
    "\n",
    "s = pd.Series([100, 200, 300])\n",
    "print(s + 10)"
   ]
  },
  {
   "cell_type": "code",
   "execution_count": null,
   "id": "a91c3421",
   "metadata": {},
   "outputs": [
    {
     "name": "stdout",
     "output_type": "stream",
     "text": [
      "0     800\n",
      "1     700\n",
      "2    2000\n",
      "3     700\n",
      "4     800\n",
      "dtype: int64\n"
     ]
    }
   ],
   "source": [
    "# 사칙연산 1\n",
    "# 값은 인덱스를 기준으로 사칙연산이 적용됨(반복문을 사용하지 않아도 됨)\n",
    "\n",
    "high = pd.Series([51500, 51200, 52500, 51500, 51500])\n",
    "low = pd.Series([50700, 50500, 50500, 50800, 50700])\n",
    "diff = high - low\n",
    "print(diff)"
   ]
  },
  {
   "cell_type": "code",
   "execution_count": 5,
   "id": "6fc5d85e",
   "metadata": {},
   "outputs": [
    {
     "name": "stdout",
     "output_type": "stream",
     "text": [
      "5/1    800.0\n",
      "5/2    700.0\n",
      "5/3      NaN\n",
      "5/4      NaN\n",
      "dtype: float64\n"
     ]
    }
   ],
   "source": [
    "# 사칙연산 2\n",
    "# 인덱스가 같은 데이터 간의 덧셈 연산 적용\n",
    "# 순서와 상관없이 인덱스를 기준으로 계산\n",
    "\n",
    "high = pd.Series([51500, 51200, 52500], index = [\"5/1\", \"5/2\", \"5/3\"])\n",
    "low = pd.Series([50700, 50500, 50500], index = [\"5/1\", \"5/2\", \"5/4\"])\n",
    "diff = high - low\n",
    "print(diff)"
   ]
  },
  {
   "cell_type": "code",
   "execution_count": 6,
   "id": "c29d9c4b",
   "metadata": {},
   "outputs": [
    {
     "name": "stdout",
     "output_type": "stream",
     "text": [
      "0    False\n",
      "1    False\n",
      "2    False\n",
      "3     True\n",
      "4     True\n",
      "dtype: bool\n"
     ]
    }
   ],
   "source": [
    "# 시리즈 비교 연산\n",
    "# 비교 연산자의 결과로 Boolean 타입이 저장된 시리즈가 리턴됨\n",
    "\n",
    "s = pd.Series([100, 200, 300, 400, 500])\n",
    "cond = s > 300\n",
    "print(cond)"
   ]
  },
  {
   "cell_type": "code",
   "execution_count": null,
   "id": "e6a8e557",
   "metadata": {},
   "outputs": [
    {
     "data": {
      "text/plain": [
       "3    400\n",
       "4    500\n",
       "dtype: int64"
      ]
     },
     "execution_count": 7,
     "metadata": {},
     "output_type": "execute_result"
    }
   ],
   "source": [
    "# 시리즈 필터링 1\n",
    "# T/F 값을 통해서 True 값만 핉터링 가능\n",
    "\n",
    "s = pd.Series([100, 200, 300, 400, 500])\n",
    "cond = [False, False, False, True, True]\n",
    "\n",
    "s[cond]"
   ]
  },
  {
   "cell_type": "code",
   "execution_count": 8,
   "id": "07a39488",
   "metadata": {},
   "outputs": [
    {
     "name": "stdout",
     "output_type": "stream",
     "text": [
      "3    400\n",
      "4    500\n",
      "dtype: int64\n"
     ]
    }
   ],
   "source": [
    "# 시리즈 필터링 2\n",
    "# 비교 연산자의 결과 시리즈를 사용하여 인덱싱하면 조건을 만족하는 데이터만 필터링 가능\n",
    "\n",
    "s = pd.Series([100, 200, 300, 400, 500])\n",
    "cond = s > 300\n",
    "\n",
    "print(s[cond])\n"
   ]
  },
  {
   "cell_type": "code",
   "execution_count": 17,
   "id": "d6bf7910",
   "metadata": {},
   "outputs": [
    {
     "name": "stdout",
     "output_type": "stream",
     "text": [
      "1    300\n",
      "2    400\n",
      "3    500\n",
      "dtype: int64\n"
     ]
    }
   ],
   "source": [
    "# 연습 문제\n",
    "# 1. 고가와 저가 차이가 100 이상인 날의 고가를 출력하세요\n",
    "low = pd.Series([10, 200, 200, 400, 600])\n",
    "high = pd.Series([100, 300, 400, 500, 600])\n",
    "\n",
    "diff = (high - low) >= 100\n",
    "\n",
    "print(high[diff])"
   ]
  },
  {
   "cell_type": "code",
   "execution_count": 28,
   "id": "5dd86a0c",
   "metadata": {},
   "outputs": [
    {
     "name": "stdout",
     "output_type": "stream",
     "text": [
      "Index(['5/15', '5/17'], dtype='object')\n"
     ]
    }
   ],
   "source": [
    "# 2. 종가가 80,000원 이상 90,000원 미만인 날짜를 출력하라\n",
    "\n",
    "end_price = pd.Series(data = [93000, 82400, 99100, 81000, 72300], index = [\"5/14\", \"5/15\", \"5/16\", \"5/17\", \"5/18\"])\n",
    "cond = (end_price >= 80000) & (end_price < 90000)\n",
    "\n",
    "print(end_price[cond].index)"
   ]
  }
 ],
 "metadata": {
  "kernelspec": {
   "display_name": "Python 3",
   "language": "python",
   "name": "python3"
  },
  "language_info": {
   "codemirror_mode": {
    "name": "ipython",
    "version": 3
   },
   "file_extension": ".py",
   "mimetype": "text/x-python",
   "name": "python",
   "nbconvert_exporter": "python",
   "pygments_lexer": "ipython3",
   "version": "3.13.5"
  }
 },
 "nbformat": 4,
 "nbformat_minor": 5
}
