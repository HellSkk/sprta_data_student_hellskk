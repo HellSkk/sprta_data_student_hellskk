{
 "cells": [
  {
   "cell_type": "code",
   "execution_count": 1,
   "id": "6b7663bf",
   "metadata": {},
   "outputs": [],
   "source": [
    "import numpy as np\n",
    "import pandas as pd"
   ]
  },
  {
   "cell_type": "markdown",
   "id": "1b741bdb",
   "metadata": {},
   "source": [
    "- Series: Numpy를 기반으로 만들어진 1차원 데이터를 위한 자료구조\n",
    "- DataFrame: Numpy를 기반으로 만들어진 2차원 데이터를 위한 자료구조"
   ]
  },
  {
   "cell_type": "code",
   "execution_count": 6,
   "id": "5d9f7ae4",
   "metadata": {},
   "outputs": [
    {
     "name": "stdout",
     "output_type": "stream",
     "text": [
      "0    0\n",
      "1    1\n",
      "2    2\n",
      "3    3\n",
      "dtype: int64\n"
     ]
    }
   ],
   "source": [
    "arr = [ i for i in range(0, 4) ]\n",
    "s = pd.Series(arr)\n",
    "print(s)"
   ]
  },
  {
   "cell_type": "code",
   "execution_count": 7,
   "id": "0e46c1bc",
   "metadata": {},
   "outputs": [
    {
     "data": {
      "text/plain": [
       "pandas.core.series.Series"
      ]
     },
     "execution_count": 7,
     "metadata": {},
     "output_type": "execute_result"
    }
   ],
   "source": [
    "type(s)"
   ]
  },
  {
   "cell_type": "code",
   "execution_count": 8,
   "id": "7df60c24",
   "metadata": {},
   "outputs": [
    {
     "name": "stdout",
     "output_type": "stream",
     "text": [
      "0    100\n",
      "1    200\n",
      "2    300\n",
      "dtype: int64\n"
     ]
    }
   ],
   "source": [
    "data = [100, 200, 300]\n",
    "s = pd.Series(data)\n",
    "print(s)"
   ]
  },
  {
   "cell_type": "code",
   "execution_count": 9,
   "id": "029dbb2e",
   "metadata": {},
   "outputs": [
    {
     "name": "stdout",
     "output_type": "stream",
     "text": [
      "월    100\n",
      "화    200\n",
      "수    300\n",
      "dtype: int64\n"
     ]
    }
   ],
   "source": [
    "data = [100, 200, 300]\n",
    "index = [\"월\", \"화\", \"수\"]\n",
    "s = pd.Series(data, index)\n",
    "print(s)"
   ]
  },
  {
   "cell_type": "markdown",
   "id": "4ff39d0d",
   "metadata": {},
   "source": [
    "- Series 클래스의 속성\n",
    "    - index\n",
    "        - 시리즈 객체의 인덱스를 접근\n",
    "        - s.index\n",
    "    - values\n",
    "        - 시리즈 객체의 값에 접근\n",
    "        - s.values"
   ]
  },
  {
   "cell_type": "code",
   "execution_count": 10,
   "id": "a0cbe953",
   "metadata": {},
   "outputs": [
    {
     "name": "stdout",
     "output_type": "stream",
     "text": [
      "Index(['월', '화', '수'], dtype='object')\n",
      "[100 200 300]\n"
     ]
    }
   ],
   "source": [
    "data = [100, 200, 300]\n",
    "index = ['월', '화', '수']\n",
    "s = pd.Series(data, index)\n",
    "\n",
    "print(s.index)\n",
    "print(s.values)"
   ]
  },
  {
   "cell_type": "code",
   "execution_count": 11,
   "id": "127e284c",
   "metadata": {},
   "outputs": [
    {
     "name": "stdout",
     "output_type": "stream",
     "text": [
      "메로나    500\n",
      "누가바    800\n",
      "빠삐코    200\n",
      "dtype: int64\n"
     ]
    }
   ],
   "source": [
    "data = [500, 800, 200]\n",
    "index = [\"메로나\", \"누가바\", \"빠삐코\"]\n",
    "s = pd.Series(data, index=index)\n",
    "\n",
    "print(s)"
   ]
  }
 ],
 "metadata": {
  "kernelspec": {
   "display_name": "Python 3",
   "language": "python",
   "name": "python3"
  },
  "language_info": {
   "codemirror_mode": {
    "name": "ipython",
    "version": 3
   },
   "file_extension": ".py",
   "mimetype": "text/x-python",
   "name": "python",
   "nbconvert_exporter": "python",
   "pygments_lexer": "ipython3",
   "version": "3.13.5"
  }
 },
 "nbformat": 4,
 "nbformat_minor": 5
}
