{
 "cells": [
  {
   "cell_type": "code",
   "execution_count": null,
   "id": "e8a07a39",
   "metadata": {},
   "outputs": [],
   "source": [
    "# 필수 문제 1번\n",
    "import pandas as pd\n",
    "\n",
    "# 데이터 정의\n",
    "# 주간 광고비 지출 (백만원)\n",
    "# 주간 웹사이트 방문자 수 (만 명) \n",
    "X = [1.0, 1.2, 1.5, 1.7, 2.0, 2.2, 2.5, 2.7, 3.0, 3.2, 3.5, 3.7, 4.0, 4.2, 4.5, 4.7, 5.0, 5.2, 5.5, 5.8]\n",
    "y = [2.5, 2.8, 3.2, 3.5, 4.0, 4.3, 4.8, 5.0, 5.5, 5.8, 6.2, 6.5, 7.0, 7.3, 7.8, 8.0, 8.5, 8.8, 9.2, 9.5] \n",
    "\n",
    "# 딕셔너리로 데이터 결합\n",
    "data = {'expense': X, 'visitor': y}\n",
    "\n",
    "# DataFrame 생성\n",
    "df = pd.DataFrame(data)\n",
    "\n",
    "from sklearn.linear_model import LinearRegression\n",
    "from sklearn.metrics import accuracy_score, f1_score\n",
    "\n",
    "def get_lr(df):\n",
    "    X = df[['expense']]\n",
    "    y = df['visitor']\n",
    "\n",
    "    model = LinearRegression()\n",
    "    model.fit(X, y)\n",
    "\n",
    "    return model\n"
   ]
  },
  {
   "cell_type": "code",
   "execution_count": null,
   "id": "c97b0b05",
   "metadata": {},
   "outputs": [],
   "source": [
    "# 필수 문제 2번\n",
    "\n",
    "import pandas as pd\n",
    "X = [1.0, 1.2, 1.5, 1.7, 2.0, 2.2, 2.5, 2.7, 3.0, 3.2, 3.5, 3.7, 4.0, 4.2, 4.5, 4.7, 5.0, 5.2, 5.5, 5.8]\n",
    "y = [2.5, 2.8, 3.2, 3.5, 4.0, 4.3, 4.8, 5.0, 5.5, 5.8, 6.2, 6.5, 7.0, 7.3, 7.8, 8.0, 8.5, 8.8, 9.2, 9.5] \n",
    "data = {'expense': X, 'visitor': y}\n",
    "df = pd.DataFrame(data)\n",
    "\n",
    "from sklearn.metrics import root_mean_squared_error\n",
    "\n",
    "def get_rmse(df):\n",
    "    X = df[['expense']]\n",
    "    y = df['visitor']\n",
    "\n",
    "    model = get_lr(df)\n",
    "    y_pred = model.predict(X)\n",
    "\n",
    "    rmse = root_mean_squared_error(y, y_pred)\n",
    "\n",
    "    return round(rmse, 2)\n"
   ]
  }
 ],
 "metadata": {
  "kernelspec": {
   "display_name": "Python 3",
   "language": "python",
   "name": "python3"
  },
  "language_info": {
   "codemirror_mode": {
    "name": "ipython",
    "version": 3
   },
   "file_extension": ".py",
   "mimetype": "text/x-python",
   "name": "python",
   "nbconvert_exporter": "python",
   "pygments_lexer": "ipython3",
   "version": "3.13.5"
  }
 },
 "nbformat": 4,
 "nbformat_minor": 5
}
