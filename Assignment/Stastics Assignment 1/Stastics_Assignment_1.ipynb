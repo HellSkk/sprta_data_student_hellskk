{
 "cells": [
  {
   "cell_type": "code",
   "execution_count": 36,
   "id": "42a0af42",
   "metadata": {},
   "outputs": [],
   "source": [
    "# 필수 문제 1번\n",
    "\n",
    "import pandas as pd\n",
    "\n",
    "df = pd.read_csv('https://raw.githubusercontent.com/llm-bot-sparta/sparta_coding/refs/heads/main/statistics.csv')\n",
    "\n",
    "def get_agg(df):\n",
    "    return df.groupby('Gender')[\"Review Rating\"].agg([\"mean\", \"median\"]).round(2)\n"
   ]
  },
  {
   "cell_type": "code",
   "execution_count": null,
   "id": "829295b9",
   "metadata": {},
   "outputs": [
    {
     "name": "stdout",
     "output_type": "stream",
     "text": [
      "t-statistic: 0.5097, p-value: 0.6103\n"
     ]
    },
    {
     "data": {
      "text/plain": [
       "(np.float64(0.5097), np.float64(0.6103))"
      ]
     },
     "execution_count": 59,
     "metadata": {},
     "output_type": "execute_result"
    }
   ],
   "source": [
    "# 필수 문제 2번\n",
    "# Independent t-test\n",
    "# ‘성별에 따른 리뷰 평점 평균 차이’\n",
    "# 귀무가설: 성별에 따른 리뷰 평점의 평균 차이는 없다.\n",
    "# 대립가설: 성별에 따른 리뷰 평점의 평균 차이가 있다. \n",
    "\n",
    "import pandas as pd\n",
    "\n",
    "df = pd.read_csv('https://raw.githubusercontent.com/llm-bot-sparta/sparta_coding/refs/heads/main/statistics.csv')\n",
    "\n",
    "from scipy.stats import ttest_ind\n",
    "\n",
    "def get_ttest(df):\n",
    "    df_Male = df[df['Gender'] == 'Male']['Review Rating']\n",
    "    df_Female = df[df['Gender'] == 'Female']['Review Rating']\n",
    "\n",
    "    t_sat, p_value = ttest_ind(df_Male, df_Female)\n",
    "    t_sat = round(t_sat, 4)\n",
    "    p_value = round(p_value, 4)\n",
    "\n",
    "    print(f\"t-statistic: {t_sat}, p-value: {p_value}\")\n",
    "\n",
    "    return t_sat, p_value\n",
    "\n",
    "\n",
    "get_ttest(df)\n",
    "\n",
    "# p-value 기준 귀무가설 기각/채택 여부 및 근거 서술\n",
    "'''\n",
    "p-value가 유의수준 0.05보다 크므로(0.6103), 귀무가설을 채택한다.\n",
    "따라서 성별에 따른 리뷰 평점의 평균 차이는 통계적으로 유의하지 않다.\n",
    "'''\n",
    "\n"
   ]
  }
 ],
 "metadata": {
  "kernelspec": {
   "display_name": "Python 3",
   "language": "python",
   "name": "python3"
  },
  "language_info": {
   "codemirror_mode": {
    "name": "ipython",
    "version": 3
   },
   "file_extension": ".py",
   "mimetype": "text/x-python",
   "name": "python",
   "nbconvert_exporter": "python",
   "pygments_lexer": "ipython3",
   "version": "3.13.5"
  }
 },
 "nbformat": 4,
 "nbformat_minor": 5
}
