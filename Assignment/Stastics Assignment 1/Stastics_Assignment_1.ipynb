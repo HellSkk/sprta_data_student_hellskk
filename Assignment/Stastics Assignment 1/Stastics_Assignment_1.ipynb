{
 "cells": [
  {
   "cell_type": "code",
   "execution_count": null,
   "id": "42a0af42",
   "metadata": {},
   "outputs": [],
   "source": [
    "# 필수 문제 1번\n",
    "\n",
    "import pandas as pd\n",
    "\n",
    "df = pd.read_csv('https://raw.githubusercontent.com/llm-bot-sparta/sparta_coding/refs/heads/main/statistics.csv')\n",
    "\n",
    "def get_agg(df):\n",
    "    return df.groupby('Gender')[\"Review Rating\"].agg([\"mean\", \"median\"]).round(2)\n"
   ]
  },
  {
   "cell_type": "code",
   "execution_count": null,
   "id": "829295b9",
   "metadata": {},
   "outputs": [],
   "source": [
    "# 필수 문제 2번\n",
    "# Independent t-test\n",
    "# ‘성별에 따른 리뷰 평점 평균 차이’\n",
    "# 귀무가설: 성별에 따른 리뷰 평점의 평균 차이는 없다.\n",
    "# 대립가설: 성별에 따른 리뷰 평점의 평균 차이가 있다. \n",
    "\n",
    "import pandas as pd\n",
    "\n",
    "df = pd.read_csv('https://raw.githubusercontent.com/llm-bot-sparta/sparta_coding/refs/heads/main/statistics.csv')\n",
    "\n",
    "from scipy.stats import ttest_ind\n",
    "\n",
    "def get_ttest(df):\n",
    "    df_Male = df[df['Gender'] == 'Male']['Review Rating']\n",
    "    df_Female = df[df['Gender'] == 'Female']['Review Rating']\n",
    "\n",
    "    t_sat, p_value = ttest_ind(df_Male, df_Female)\n",
    "    t_sat = round(t_sat, 4)\n",
    "    p_value = round(p_value, 4)\n",
    "\n",
    "    print(f\"t-statistic: {t_sat}, p-value: {p_value}\")\n",
    "\n",
    "    return t_sat, p_value\n",
    "\n",
    "# p-value 기준 귀무가설 기각/채택 여부 및 근거 서술\n",
    "'''\n",
    "p-value가 유의수준 0.05보다 크므로(0.6103), 귀무가설을 채택한다.\n",
    "따라서 성별에 따른 리뷰 평점의 평균 차이는 통계적으로 유의하지 않다.\n",
    "'''"
   ]
  },
  {
   "cell_type": "code",
   "execution_count": null,
   "id": "19cec8d7",
   "metadata": {},
   "outputs": [
    {
     "name": "stdout",
     "output_type": "stream",
     "text": [
      "카이제곱 통계량:  64.6506\n",
      "p-value:  0.7186\n",
      "자유도:  72\n"
     ]
    },
    {
     "data": {
      "text/plain": [
       "(np.float64(64.6506), np.float64(0.7186))"
      ]
     },
     "execution_count": 14,
     "metadata": {},
     "output_type": "execute_result"
    }
   ],
   "source": [
    "# 도전 문제 1번 - 카이제곱 검정\n",
    "\n",
    "import pandas as pd\n",
    "\n",
    "df = pd.read_csv('https://raw.githubusercontent.com/llm-bot-sparta/sparta_coding/refs/heads/main/statistics.csv')\n",
    "\n",
    "from scipy.stats import chi2_contingency\n",
    "\n",
    "\n",
    "def get_chi2(df):\n",
    "    # 교차표 생성\n",
    "    chi_crosstab = pd.crosstab(df['Color'], df['Season'])\n",
    "    # 카이제곱 독립성 검정\n",
    "    chi2, p, dof, expected = chi2_contingency(chi_crosstab)\n",
    "    # 카이제곱 독립성 평가(확인용)\n",
    "    # print(\"카이제곱 통계량: \", round(chi2, 4))\n",
    "    # print(\"p-value: \", round(p, 4))\n",
    "    # print(\"자유도: \", dof)\n",
    "    # print(\"기대빈도: \", expected)\n",
    "    return round(chi2, 4), round(p, 4)\n",
    "   \n",
    "# p-value 기준 귀무가설 기각/채택 여부 및 근거 서술\n",
    "'''\n",
    "귀무가설(H0): 두 변수는 독립이다.\n",
    "대립가설(H1): 두 변수는 독립이 아니다.\n",
    "\n",
    "p-value가 0.7186로 유의 수준 0.05보다 높으므로 귀무가설을 채택한다.\n",
    "따라서 두 독립 변수는 독립적이라고 볼 수 있다.\n",
    "'''"
   ]
  },
  {
   "cell_type": "code",
   "execution_count": null,
   "id": "ce13a068",
   "metadata": {},
   "outputs": [
    {
     "name": "stdout",
     "output_type": "stream",
     "text": [
      "MSE: 563.2822\n",
      "결정 계수(R2): -0.0066\n"
     ]
    }
   ],
   "source": [
    "# 도전 문제 2번 - 다중선형회귀 분석 및 정확도 평가\n",
    "\n",
    "import pandas as pd\n",
    "\n",
    "df = pd.read_csv('https://raw.githubusercontent.com/llm-bot-sparta/sparta_coding/refs/heads/main/statistics.csv')\n",
    "\n",
    "from sklearn.linear_model import LinearRegression\n",
    "from sklearn.metrics import mean_squared_error, r2_score\n",
    "from sklearn.model_selection import train_test_split\n",
    "\n",
    "def get_multi_reg(df):\n",
    "    # 독립 변수와 종속 변수 설정\n",
    "    X = df[['Age', 'Previous Purchases']]\n",
    "    y = df['Purchase Amount (USD)']\n",
    "\n",
    "    # 데이터 분할\n",
    "    X_train, X_test, y_train, y_test = train_test_split(\n",
    "    X, y, test_size = 0.2, random_state = 42\n",
    "    )\n",
    "\n",
    "    # 다중선형회귀 모델 생성 및 훈련\n",
    "    model = LinearRegression()\n",
    "    model.fit(X_train, y_train)\n",
    "\n",
    "    # 예측\n",
    "    y_pred = model.predict(X_test)\n",
    "\n",
    "    # 모델 평가\n",
    "    mse = mean_squared_error(y_test, y_pred)\n",
    "    r2 = r2_score(y_test, y_pred)\n",
    "\n",
    "    # print(\"MSE:\", round(mse, 4))\n",
    "    # print(\"결정 계수(R2):\", round(r2, 4))\n",
    "    return round(r2, 4)\n",
    "   \n",
    "# 해당 결과값에 대해 간략하게 해석\n",
    "'''\n",
    "R2 값이 음수(-0.0066)가 나왔기 때문에\n",
    "1. 데이터가 선형적이지 않거나\n",
    "2. 예측이 평균보다 못한 상태\n",
    "3, 즉, 모델의 정확도가 매우 낮은(거의 없는) 상태\n",
    "라고 할 수 있다.\n",
    "(한계) 독립 변수들 간의 다중공선성, 이상치 등을 파악하지 못하였다.\n",
    "'''"
   ]
  }
 ],
 "metadata": {
  "kernelspec": {
   "display_name": "Python 3",
   "language": "python",
   "name": "python3"
  },
  "language_info": {
   "codemirror_mode": {
    "name": "ipython",
    "version": 3
   },
   "file_extension": ".py",
   "mimetype": "text/x-python",
   "name": "python",
   "nbconvert_exporter": "python",
   "pygments_lexer": "ipython3",
   "version": "3.13.5"
  }
 },
 "nbformat": 4,
 "nbformat_minor": 5
}
