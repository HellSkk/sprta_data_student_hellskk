{
 "cells": [
  {
   "cell_type": "code",
   "execution_count": 23,
   "id": "3dd84c57",
   "metadata": {},
   "outputs": [],
   "source": [
    "def calculate_stock(numbers):\n",
    "\treturn sum(numbers) / len(numbers)"
   ]
  },
  {
   "cell_type": "code",
   "execution_count": 24,
   "id": "a3c3fa3f",
   "metadata": {},
   "outputs": [],
   "source": [
    "def simple_calculator(num1, num2, operator):\n",
    "    if operator == '+':\n",
    "        return num1 + num2\n",
    "    elif operator == '-':\n",
    "        return num1 - num2\n",
    "    elif operator == '*':\n",
    "        return num1 * num2\n",
    "    elif operator == '/':\n",
    "        if num2 == 0:\n",
    "            return 'Cannot divide by zero'\n",
    "        else:\n",
    "            return num1 / num2\n",
    "    else:\n",
    "        return 'Invalid operator'  "
   ]
  },
  {
   "cell_type": "code",
   "execution_count": 25,
   "id": "8558d496",
   "metadata": {},
   "outputs": [],
   "source": [
    "def find_top_seller(sales_data):\n",
    "    top_product = \"\"\n",
    "    max_sales = 0\n",
    "    for product, sales in sales_data.items():\n",
    "        if sales > max_sales:\n",
    "            max_sales = sales\n",
    "            top_product = product\n",
    "    return top_product, max_sales"
   ]
  },
  {
   "cell_type": "code",
   "execution_count": 26,
   "id": "bf4e15ae",
   "metadata": {},
   "outputs": [],
   "source": [
    "def remove_duplicates_and_count(s):\n",
    "    result_with_frequency = []\n",
    "    removed_str = ''.join(dict.fromkeys(s))\n",
    "    for char in removed_str:\n",
    "        result_with_frequency.append((char, s.count(char)))\n",
    "    return result_with_frequency # 튜플 리스트로 변환"
   ]
  },
  {
   "cell_type": "code",
   "execution_count": 27,
   "id": "59311d35",
   "metadata": {},
   "outputs": [],
   "source": [
    "def calculate_total_distances(player_positions):\n",
    "    records = []\n",
    "    for player, position in player_positions.items():\n",
    "        total_distance = 0\n",
    "        for i in range(1, len(position)):\n",
    "            x1, y1 = position[i - 1][0], position[i - 1][1]\n",
    "            x2, y2 = position[i][0], position[i][1]\n",
    "            distance = ((x2 - x1) ** 2 + (y2 - y1) ** 2) ** 0.5\n",
    "            total_distance += distance\n",
    "        records.append((player, round(total_distance, 2)))\n",
    "    return records"
   ]
  },
  {
   "cell_type": "code",
   "execution_count": 28,
   "id": "bd310c23",
   "metadata": {},
   "outputs": [],
   "source": [
    "import pandas as pd\n",
    "def get_csv(url):\n",
    "    df = pd.read_csv(url, sep = ';' )\n",
    "    return df"
   ]
  },
  {
   "cell_type": "code",
   "execution_count": 29,
   "id": "49ab7b96",
   "metadata": {},
   "outputs": [],
   "source": [
    "url = 'https://raw.githubusercontent.com/llm-bot-sparta/sparta_coding/refs/heads/main/flight_data.csv'\n",
    "df = get_csv(url)\n",
    "\n",
    "def get_missing(data):\n",
    "\treturn df.isnull().sum()"
   ]
  },
  {
   "cell_type": "code",
   "execution_count": 30,
   "id": "29839522",
   "metadata": {},
   "outputs": [],
   "source": [
    "def get_price(df):\n",
    "    result = df.groupby('Destination')['Price'].agg(['mean', 'median']).round(1)\n",
    "    return result"
   ]
  },
  {
   "cell_type": "code",
   "execution_count": 31,
   "id": "bb04bf28",
   "metadata": {},
   "outputs": [],
   "source": [
    "def get_wed_price(df):\n",
    "    # 날짜형 자료형 변환\n",
    "    df['Date_of_Journey'] = pd.to_datetime(df['Date_of_Journey'])\n",
    "    df['Reservation_Date'] = df['Date_of_Journey'].dt.day_name()\n",
    "\n",
    "    # 수요일 예약된 비행기 표 값 평균 반환\n",
    "    return df[df['Reservation_Date'] == \"Wednesday\"]['Price'].mean().round(1)\n"
   ]
  },
  {
   "cell_type": "code",
   "execution_count": null,
   "id": "c5d92e0e",
   "metadata": {},
   "outputs": [
    {
     "name": "stderr",
     "output_type": "stream",
     "text": [
      "C:\\Users\\gkswn\\AppData\\Local\\Temp\\ipykernel_19260\\776961845.py:14: UserWarning: Could not infer format, so each element will be parsed individually, falling back to `dateutil`. To ensure parsing is consistent and as-expected, please specify a format.\n",
      "  df[\"Dep_Time\"] = pd.to_datetime(df[\"Dep_Time\"])\n"
     ]
    },
    {
     "data": {
      "text/plain": [
       "Time_Of_Day\n",
       "아침    4912\n",
       "저녁    2702\n",
       "오후    2604\n",
       "밤      465\n",
       "Name: Airline, dtype: int64"
      ]
     },
     "execution_count": 32,
     "metadata": {},
     "output_type": "execute_result"
    }
   ],
   "source": [
    "# 시간대 분류 함수\n",
    "def get_dep_time_of_day(hour):\n",
    "    if 5 <= hour < 12:\n",
    "        return \"아침\"\n",
    "    elif 12 <= hour < 18:\n",
    "        return \"오후\"\n",
    "    elif 18 <= hour < 24:\n",
    "        return \"저녁\"\n",
    "    else:\n",
    "        return \"밤\"\n",
    "\n",
    "def get_cat(df):\n",
    "    # 날짜 타입형 변환\n",
    "    df[\"Dep_Time\"] = pd.to_datetime(df[\"Dep_Time\"])\n",
    "    # 시간만 추출\n",
    "    df[\"Dep_Hour\"] = df[\"Dep_Time\"].dt.hour\n",
    "\n",
    "    # 함수 적용\n",
    "    df[\"Time_Of_Day\"] = df[\"Dep_Hour\"].apply(get_dep_time_of_day)\n",
    "\n",
    "    # 시간 대 별로 그룹화 및 Airline 개수 세기 및 내림차순 정렬\n",
    "    return df.groupby(\"Time_Of_Day\")[\"Airline\"].count().sort_values(ascending=False)"
   ]
  }
 ],
 "metadata": {
  "kernelspec": {
   "display_name": "Python 3",
   "language": "python",
   "name": "python3"
  },
  "language_info": {
   "codemirror_mode": {
    "name": "ipython",
    "version": 3
   },
   "file_extension": ".py",
   "mimetype": "text/x-python",
   "name": "python",
   "nbconvert_exporter": "python",
   "pygments_lexer": "ipython3",
   "version": "3.13.3"
  }
 },
 "nbformat": 4,
 "nbformat_minor": 5
}
